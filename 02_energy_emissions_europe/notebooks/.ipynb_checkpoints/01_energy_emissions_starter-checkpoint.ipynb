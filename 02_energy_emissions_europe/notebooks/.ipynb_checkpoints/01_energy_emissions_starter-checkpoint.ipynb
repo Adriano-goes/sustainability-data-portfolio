{
 "cells": [
  {
   "cell_type": "code",
   "execution_count": null,
   "id": "977362a3-9c41-43c2-85f4-5dfda5be9411",
   "metadata": {},
   "outputs": [],
   "source": []
  }
 ],
 "metadata": {
  "kernelspec": {
   "display_name": "Python 3 (ipykernel)",
   "language": "python",
   "name": "python3"
  },
  "language_info": {
   "codemirror_mode": {
    "name": "ipython",
    "version": 3
   },
   "file_extension": ".py",
   "mimetype": "text/x-python",
   "name": "python",
   "nbconvert_exporter": "python",
   "pygments_lexer": "ipython3",
   "version": "3.11.13"
  }
 },
 "nbformat": 4,
 "nbformat_minor": 5
}
